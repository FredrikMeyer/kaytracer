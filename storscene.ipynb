version https://git-lfs.github.com/spec/v1
oid sha256:11a585f18f1e83dea2b4bf8e3560a1e1fdb74aab3ff7d7010781ff28c0d607b8
size 8264
