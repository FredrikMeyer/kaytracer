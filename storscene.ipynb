version https://git-lfs.github.com/spec/v1
oid sha256:4dc868e56d6cf69fb2ba095e60f31a85eaec8b550a37cb49b04af1ab788bb842
size 179826
