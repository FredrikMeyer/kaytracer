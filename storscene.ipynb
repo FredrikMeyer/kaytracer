version https://git-lfs.github.com/spec/v1
oid sha256:9c72bc19b5a25e94c5f78b947f4ee886fd846a8447f8a2e5de2afb4f10cd0e7d
size 209252
