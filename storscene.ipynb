version https://git-lfs.github.com/spec/v1
oid sha256:1ffe04027def317696702d40326b20ef925b6ef0f843eadae4d7f67e96bcb127
size 509461
