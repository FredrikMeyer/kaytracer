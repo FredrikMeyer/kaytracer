version https://git-lfs.github.com/spec/v1
oid sha256:63cf81f3edfd186d792e0d502a4b9c1147a2d2ace91bac89450e54f898922248
size 343618
