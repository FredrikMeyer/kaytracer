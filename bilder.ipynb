version https://git-lfs.github.com/spec/v1
oid sha256:7d378694b3878d9819ca1fee50c1986a0018a9765d310703c02fb321be354851
size 246199
