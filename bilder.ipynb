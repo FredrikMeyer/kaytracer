version https://git-lfs.github.com/spec/v1
oid sha256:98d4923debba2e90c8c05ebdeafb4ce6116a4ff9ee5f245bd83db0836665be40
size 335297
