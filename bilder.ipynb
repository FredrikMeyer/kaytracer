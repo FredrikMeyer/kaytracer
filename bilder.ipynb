version https://git-lfs.github.com/spec/v1
oid sha256:88284fd2d944835764c3332b6728d842448ff9b50b7f4651a42aef0cb4712955
size 242973
