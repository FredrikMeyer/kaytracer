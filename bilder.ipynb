version https://git-lfs.github.com/spec/v1
oid sha256:5bc1a6e3f4edeecd23fb564d5842e91e9b419860eba35bfa1263eb2d22b6da2a
size 242651
