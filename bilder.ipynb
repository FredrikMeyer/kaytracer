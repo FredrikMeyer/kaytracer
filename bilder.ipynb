version https://git-lfs.github.com/spec/v1
oid sha256:5550a1dee403c24755ccf29029f25cb99b43f4c9cd2849e22e9163e9249ea66c
size 321932
