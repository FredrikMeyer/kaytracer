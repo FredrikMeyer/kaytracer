version https://git-lfs.github.com/spec/v1
oid sha256:c31e14ef444c19901d33280b7f97b7815d734beb6dee911429e127634b551b03
size 208355
