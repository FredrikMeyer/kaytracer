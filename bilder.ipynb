version https://git-lfs.github.com/spec/v1
oid sha256:4ea415824ae1989ca3a0c4855e0a83d25c81d600c8f46e5b1ae2f62651b0f4b6
size 335299
